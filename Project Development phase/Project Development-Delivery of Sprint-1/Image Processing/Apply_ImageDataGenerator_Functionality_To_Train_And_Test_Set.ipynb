from tensorflow.keras.preprocessing.image import ImageDataGenerator
# Testing Datagen
test_datagen = ImageDataGenerator(rescale=1/255)
# Training Datagen
train_datagen = ImageDataGenerator(rescale=1/255,zoom_range=0.2,horizontal_flip=True,vertical_flip=False)
# Training Dataset
x_train=train_datagen.flow_from_directory(r'/content/drive/MyDrive/Dataset/training_set',target_size=(64,64), class_mode='categorical',batch_size=900)
# Testing Dataset
x_test=test_datagen.flow_from_directory(r'/content/drive/MyDrive/Dataset/test_set',target_size=(64,64), class_mode='categorical',batch_size=900)
print("Len x-train : ",len(x_train))
print("Len x-test : ", len(x_test))
# The Class Indices in Training Dataset
x_train.class_indices
traindf=pd.read_csv('/content/drive/images_and_labels.txt',dtype=str,sep='\s')
traindf.columns = ['image','label','none1','none2','none3']
traindf.drop(['none1', 'none2','none3'], axis=1)
datagen=ImageDataGenerator(rescale=1./255.,validation_split=0.25)
train_generator=datagen.flow_from_dataframe
(
  dataframe=traindf,
  directory="/content/drive/",
  x_col="image",
  y_col="label",
  subset="training",
  batch_size=32,
  seed=42,
  shuffle=True,
  class_mode="categorical",
  target_size=(150,150)
)
validation_generator=datagen.flow_from_dataframe
(
  dataframe=traindf,
  directory="/content/drive/",
  x_col="image",
  y_col="label",
  subset="validation",
  batch_size=32,
  seed=42,
  shuffle=True,
  class_mode="categorical",
  target_size=(150,150)
  )
